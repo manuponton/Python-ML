{
 "cells": [
  {
   "cell_type": "code",
   "execution_count": 1,
   "metadata": {},
   "outputs": [],
   "source": [
    "import numpy as np"
   ]
  },
  {
   "cell_type": "code",
   "execution_count": 2,
   "metadata": {},
   "outputs": [
    {
     "data": {
      "text/plain": [
       "array([0.77163185, 0.07674659, 0.5254232 , 0.01772149, 0.58837433])"
      ]
     },
     "execution_count": 2,
     "metadata": {},
     "output_type": "execute_result"
    }
   ],
   "source": [
    "np.random.rand(5)"
   ]
  },
  {
   "cell_type": "code",
   "execution_count": 4,
   "metadata": {},
   "outputs": [
    {
     "data": {
      "text/plain": [
       "array([[0.44623173, 0.4533934 , 0.08053392, 0.49329359, 0.55443769],\n",
       "       [0.66859865, 0.75844959, 0.72866691, 0.25706421, 0.74187275],\n",
       "       [0.82246407, 0.44746676, 0.08962219, 0.71437949, 0.99028951]])"
      ]
     },
     "execution_count": 4,
     "metadata": {},
     "output_type": "execute_result"
    }
   ],
   "source": [
    "np.random.rand(3,5)#Tres filas y cinco columnas"
   ]
  },
  {
   "cell_type": "markdown",
   "metadata": {},
   "source": [
    "Se utiliza el metodo randn para arrojar una matriz con una distrubucion normal"
   ]
  },
  {
   "cell_type": "code",
   "execution_count": 13,
   "metadata": {},
   "outputs": [],
   "source": [
    "edades=12+5*np.random.randn(3,7)"
   ]
  },
  {
   "cell_type": "code",
   "execution_count": 14,
   "metadata": {},
   "outputs": [
    {
     "data": {
      "text/plain": [
       "array([[11.73624646, 12.60308778, 14.69729522, 16.52180508,  6.96356221,\n",
       "        17.80217104, 15.6908014 ],\n",
       "       [ 9.15233659, 18.01332642, 17.16478739, 21.23917778, 13.85015701,\n",
       "        16.59989664,  6.21634081],\n",
       "       [13.97179121, 11.06831368, 18.84894688, 18.50670039,  7.66200548,\n",
       "        12.38865731, 15.93435734]])"
      ]
     },
     "execution_count": 14,
     "metadata": {},
     "output_type": "execute_result"
    }
   ],
   "source": [
    "edades"
   ]
  },
  {
   "cell_type": "code",
   "execution_count": null,
   "metadata": {},
   "outputs": [],
   "source": []
  }
 ],
 "metadata": {
  "kernelspec": {
   "display_name": "Python 3",
   "language": "python",
   "name": "python3"
  },
  "language_info": {
   "codemirror_mode": {
    "name": "ipython",
    "version": 3
   },
   "file_extension": ".py",
   "mimetype": "text/x-python",
   "name": "python",
   "nbconvert_exporter": "python",
   "pygments_lexer": "ipython3",
   "version": "3.7.1"
  }
 },
 "nbformat": 4,
 "nbformat_minor": 2
}
