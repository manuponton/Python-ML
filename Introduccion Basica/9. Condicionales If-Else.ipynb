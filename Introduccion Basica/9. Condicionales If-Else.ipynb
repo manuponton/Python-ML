{
 "cells": [
  {
   "cell_type": "code",
   "execution_count": 3,
   "metadata": {},
   "outputs": [
    {
     "name": "stdout",
     "output_type": "stream",
     "text": [
      "a es mayor que b\n"
     ]
    }
   ],
   "source": [
    "a=5\n",
    "b=4\n",
    "if(a==b):\n",
    "    print(\"a es igual a b\")\n",
    "elif(a>b):\n",
    "    print(\"a es mayor que b\")\n",
    "elif(a<b):\n",
    "    print(\"a es menor que b\")\n",
    "else:\n",
    "    print(\"a es diferente de b\")"
   ]
  },
  {
   "cell_type": "code",
   "execution_count": 4,
   "metadata": {},
   "outputs": [
    {
     "name": "stdout",
     "output_type": "stream",
     "text": [
      "a es mayor que b\n"
     ]
    }
   ],
   "source": [
    "a=5\n",
    "b=4\n",
    "if(a==b):\n",
    "    print(\"a es igual a b\")\n",
    "elif(a>b):\n",
    "    print(\"a es mayor que b\")\n",
    "elif(a<b):\n",
    "    print(\"a es menor que b\")\n",
    "else:\n",
    "    print(\"a es diferente de b\")"
   ]
  },
  {
   "cell_type": "code",
   "execution_count": 5,
   "metadata": {},
   "outputs": [
    {
     "name": "stdout",
     "output_type": "stream",
     "text": [
      "a es menor que b\n"
     ]
    }
   ],
   "source": [
    "a=3\n",
    "b=4\n",
    "if(a==b):\n",
    "    print(\"a es igual a b\")\n",
    "elif(a>b):\n",
    "    print(\"a es mayor que b\")\n",
    "elif(a<b):\n",
    "    print(\"a es menor que b\")\n",
    "else:\n",
    "    print(\"a es diferente de b\")"
   ]
  },
  {
   "cell_type": "code",
   "execution_count": 6,
   "metadata": {},
   "outputs": [
    {
     "name": "stdout",
     "output_type": "stream",
     "text": [
      "a es igual a b\n"
     ]
    }
   ],
   "source": [
    "a=4\n",
    "b=4\n",
    "if(a==b):\n",
    "    print(\"a es igual a b\")\n",
    "elif(a>b):\n",
    "    print(\"a es mayor que b\")\n",
    "elif(a<b):\n",
    "    print(\"a es menor que b\")\n",
    "else:\n",
    "    print(\"a es diferente de b\")"
   ]
  },
  {
   "cell_type": "code",
   "execution_count": null,
   "metadata": {},
   "outputs": [],
   "source": []
  }
 ],
 "metadata": {
  "kernelspec": {
   "display_name": "Python 3",
   "language": "python",
   "name": "python3"
  },
  "language_info": {
   "codemirror_mode": {
    "name": "ipython",
    "version": 3
   },
   "file_extension": ".py",
   "mimetype": "text/x-python",
   "name": "python",
   "nbconvert_exporter": "python",
   "pygments_lexer": "ipython3",
   "version": "3.7.1"
  }
 },
 "nbformat": 4,
 "nbformat_minor": 2
}
